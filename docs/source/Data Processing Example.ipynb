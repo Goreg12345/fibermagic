{
 "cells": [
  {
   "cell_type": "markdown",
   "metadata": {},
   "source": [
    "# Data Processing Example"
   ]
  },
  {
   "cell_type": "code",
   "execution_count": null,
   "metadata": {},
   "outputs": [],
   "source": [
    "from fibermagic.IO.NeurophotometricsIO import read_project_rawdata, read_project_logs\n",
    "from pathlib import Path\n",
    "import plotly.express as px\n",
    "from fibermagic.core.demodulate import zdFF_airPLS, add_zdFF\n",
    "from fibermagic.core.perievents import perievents\n",
    "from fibermagic.utils.download_dataset import download"
   ]
  },
  {
   "cell_type": "code",
   "execution_count": null,
   "metadata": {},
   "outputs": [],
   "source": [
    "download('arena-data')"
   ]
  },
  {
   "cell_type": "markdown",
   "metadata": {},
   "source": [
    "The data was taken in two batches from different mice. Batch 1 consists of one recording per mouse (n=2). Batch 2 includes two recordings per mouse (n=7). Every mouse was recorded individually (no multiple mice per recording).\n",
    "\n",
    "The experimental environment was a 1m x 1m sized arena. The mouse was able to move freely. Food pellets, a running wheel, and a novel object was placed in different locations of the arena. Sessions were 15 minutes long.\n",
    "\n",
    "For behavioral evaluation, a video was recorded using a IR-camera. The video was used to determing the region in which the mouse was."
   ]
  },
  {
   "cell_type": "code",
   "execution_count": null,
   "metadata": {
    "pycharm": {
     "name": "#%%\n"
    }
   },
   "outputs": [],
   "source": [
    "PROJECT_PATH = Path(r'data')\n",
    "df_idx = read_project_rawdata(PROJECT_PATH,\n",
    "                     ['Batch', 'Day', 'FP', 'Mouse_'], 'arena.csv', ignore_dirs=['meta', 'processed', 'processed.zip'])"
   ]
  },
  {
   "cell_type": "markdown",
   "metadata": {},
   "source": [
    "### A first spike into to investigate the raw data.\n",
    "\n",
    "By changing values to different mice and days, you can see that mice B9671 and B9889 had bad signals."
   ]
  },
  {
   "cell_type": "code",
   "execution_count": null,
   "metadata": {},
   "outputs": [],
   "source": [
    "df = df_idx.reset_index()\n",
    "df.Mouse.unique()  # list recorded mice"
   ]
  },
  {
   "cell_type": "code",
   "execution_count": null,
   "metadata": {
    "pycharm": {
     "name": "#%%\n"
    }
   },
   "outputs": [],
   "source": [
    "px.line(df[(df.Mouse=='B9890') & (df.Day=='Day2') & (df.Channel == 560)].Signal).show()"
   ]
  },
  {
   "cell_type": "code",
   "execution_count": null,
   "metadata": {
    "pycharm": {
     "name": "#%%\n"
    }
   },
   "outputs": [],
   "source": [
    "px.line(df[(df.Mouse=='B9890') & (df.Day=='Day2') & (df.Channel == 560)].Reference)"
   ]
  },
  {
   "cell_type": "code",
   "execution_count": null,
   "metadata": {
    "pycharm": {
     "name": "#%%\n"
    }
   },
   "outputs": [],
   "source": [
    "df_idx = add_zdFF(df_idx, smooth_win=10, remove=200, lambd=5e9).set_index('FrameCounter', append=True)\n",
    "df_idx"
   ]
  },
  {
   "cell_type": "markdown",
   "metadata": {},
   "source": [
    "### Look at eating behavior in the full session"
   ]
  },
  {
   "cell_type": "code",
   "execution_count": null,
   "metadata": {},
   "outputs": [],
   "source": [
    "df = df_idx.reset_index()\n",
    "subset = df[(df.Mouse=='B9890') & (df.Day=='Day2') ]\n",
    "food_intake_9890 = [2277, 2516, 2692, 3234, 3548, 3712, 3936, 4315, 4483, 4671, 6323, 6418, 6589, 6659, 6853, 7590, 8890]\n",
    "fig = px.line(x=(subset.FrameCounter - 297)/2.5, y=subset['zdFF (airPLS)'], color=subset.Channel)\n",
    "for food in food_intake_9890:\n",
    "    fig = fig.add_vline(x=food)\n",
    "fig.show()"
   ]
  },
  {
   "cell_type": "code",
   "execution_count": null,
   "metadata": {},
   "outputs": [],
   "source": [
    "food_intake_9670 = [195, 289, 324, 362, 739, 781, 1262, 1330, 1454, 2130, 2190, 2310, 2366, 3075, 4022, 4080, 4180, 4240, 4350, 4480, 5140, 7410, 8094, 8150]\n",
    "subset = df[(df.Mouse=='B9670') & (df.Day=='Day2') & (df.Channel==560) ]\n",
    "fig = px.line(x=(subset.FrameCounter - 307)/2.5, y=subset['zdFF (airPLS)'])\n",
    "for food in food_intake_9890:\n",
    "    fig = fig.add_vline(x=food)\n",
    "fig.show()"
   ]
  },
  {
   "cell_type": "markdown",
   "metadata": {},
   "source": [
    "### Synchronize photometry recording with behavioral events from video recording"
   ]
  },
  {
   "cell_type": "code",
   "execution_count": null,
   "metadata": {
    "pycharm": {
     "name": "#%%\n"
    }
   },
   "outputs": [],
   "source": [
    "import pandas as pd\n",
    "\n",
    "def arena_sync(logs, path):\n",
    "    ttl = pd.read_csv(path/'input1.csv')\n",
    "    frame_times = pd.read_csv(path/'time.csv')\n",
    "    first_ttl = ttl.loc[0, 'Item2']\n",
    "    \n",
    "    first_frame = ((first_ttl - frame_times.Item2).abs().idxmin())\n",
    "    framerate = 30\n",
    "    logs['Timestamp'] = logs.Frame / 30\n",
    "    logs['FrameCounter'] = logs.Timestamp * 25 // 1\n",
    "    logs['FrameCounter'] += first_frame\n",
    "    logs['FrameCounter'] = logs.FrameCounter.astype(int)\n",
    "    logs = logs.rename(columns={'ROI': 'Event'})\n",
    "    \n",
    "    # ignore events that are too close to start or end of recording\n",
    "    logs = logs[(logs.Timestamp > 20) & (logs.Timestamp < max(logs.Timestamp) - 20)]\n",
    "    return logs.set_index('FrameCounter')\n"
   ]
  },
  {
   "cell_type": "code",
   "execution_count": null,
   "metadata": {
    "pycharm": {
     "name": "#%%\n"
    }
   },
   "outputs": [],
   "source": [
    "import os\n",
    "logs = read_project_logs(PROJECT_PATH,\n",
    "                          ['Batch', 'Day', 'FP', 'Mouse_'], sync_fun=arena_sync, ignore_dirs=['meta', 'processed', 'processed.zip'])\n",
    "logs"
   ]
  },
  {
   "cell_type": "markdown",
   "metadata": {},
   "source": [
    "### Select appropriate events and calculate perievents"
   ]
  },
  {
   "cell_type": "code",
   "execution_count": null,
   "metadata": {
    "pycharm": {
     "name": "#%%\n"
    }
   },
   "outputs": [],
   "source": [
    "# use only entries if mouse was more than x seconds in region\n",
    "min_sec_in_region = 10\n",
    "\n",
    "idxin = None\n",
    "onset = 0\n",
    "to_drop = list()\n",
    "for index, row in logs.iterrows():\n",
    "    if '_in' in row.Event:\n",
    "        idxin = index\n",
    "        onset = row.Timestamp\n",
    "    elif '_out' in row.Event:\n",
    "        if row.Timestamp - onset < min_sec_in_region:\n",
    "            to_drop.append(idxin)\n",
    "            to_drop.append(index)\n",
    "logs = logs.drop(index=to_drop)"
   ]
  },
  {
   "cell_type": "code",
   "execution_count": null,
   "metadata": {
    "pycharm": {
     "name": "#%%\n"
    }
   },
   "outputs": [],
   "source": [
    "peri = perievents(df_idx, logs, 15, 25)\n",
    "peri"
   ]
  },
  {
   "cell_type": "markdown",
   "metadata": {},
   "source": [
    "# Further Analysis"
   ]
  },
  {
   "cell_type": "code",
   "execution_count": null,
   "metadata": {
    "pycharm": {
     "name": "#%%\n"
    }
   },
   "outputs": [],
   "source": [
    "# save datastream, logs and perievents\n",
    "\n",
    "output_path = PROJECT_PATH / 'processed'\n",
    "\n",
    "# uncomment if you like to save the output files\n",
    "# df.to_csv(output_path / 'datastream.csv')\n",
    "# logs.to_csv(output_path / 'logs_time_criteria_synced.csv')\n",
    "# peri.to_csv(output_path / 'perievents_time_criteria_synced.csv')"
   ]
  },
  {
   "cell_type": "markdown",
   "metadata": {},
   "source": [
    "Now, you can use data analysis tools like Tableau or PowerBI or any data analysis technology like R, Matlab, Python (e.g. Seaborn) to visualize your data"
   ]
  },
  {
   "cell_type": "code",
   "execution_count": null,
   "metadata": {},
   "outputs": [],
   "source": []
  }
 ],
 "metadata": {
  "kernelspec": {
   "display_name": "Python 3",
   "language": "python",
   "name": "python3"
  },
  "language_info": {
   "codemirror_mode": {
    "name": "ipython",
    "version": 3
   },
   "file_extension": ".py",
   "mimetype": "text/x-python",
   "name": "python",
   "nbconvert_exporter": "python",
   "pygments_lexer": "ipython3",
   "version": "3.8.3"
  }
 },
 "nbformat": 4,
 "nbformat_minor": 1
}